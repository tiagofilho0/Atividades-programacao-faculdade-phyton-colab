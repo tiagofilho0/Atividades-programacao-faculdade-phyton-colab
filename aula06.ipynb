{
  "nbformat": 4,
  "nbformat_minor": 0,
  "metadata": {
    "colab": {
      "provenance": [],
      "authorship_tag": "ABX9TyMelX5nquJ1rzWBtXpUPI05",
      "include_colab_link": true
    },
    "kernelspec": {
      "name": "python3",
      "display_name": "Python 3"
    },
    "language_info": {
      "name": "python"
    }
  },
  "cells": [
    {
      "cell_type": "markdown",
      "metadata": {
        "id": "view-in-github",
        "colab_type": "text"
      },
      "source": [
        "<a href=\"https://colab.research.google.com/github/tiagofilho0/Atividades-programacao-faculdade-phyton-colab/blob/main/aula06.ipynb\" target=\"_parent\"><img src=\"https://colab.research.google.com/assets/colab-badge.svg\" alt=\"Open In Colab\"/></a>"
      ]
    },
    {
      "cell_type": "code",
      "execution_count": null,
      "metadata": {
        "colab": {
          "base_uri": "https://localhost:8080/"
        },
        "id": "jSm_DmdOycoT",
        "outputId": "cd79e7ea-d71e-4a07-b7b8-fab7fbb7b416"
      },
      "outputs": [
        {
          "output_type": "execute_result",
          "data": {
            "text/plain": [
              "['tomas', 'joao', 'mateus', 'julia', 'junio', 'matias', 'paulo']"
            ]
          },
          "metadata": {},
          "execution_count": 2
        }
      ],
      "source": [
        "#adicionar varios elemntos em uma lista\n",
        "\n",
        "nomes = ['tomas','joao','mateus']\n",
        "#adicionar 1\n",
        "nomes.append('julia')\n",
        "\n",
        "outrosnomes = ['junio','matias','paulo']\n",
        "#adicionar varios\n",
        "nomes.extend(outrosnomes)\n",
        "\n",
        "nomes\n"
      ]
    },
    {
      "cell_type": "code",
      "source": [
        "#Crie uma lista de números \n",
        "numeros = [1,2,3,4,5,6,7,8]\n",
        "#remova o primeiro elemento da lista\n",
        "numeros.remove(numeros[0])\n",
        "#remova o último elemento da lista\n",
        "numeros.pop()\n",
        "\n",
        "numeros"
      ],
      "metadata": {
        "colab": {
          "base_uri": "https://localhost:8080/"
        },
        "id": "hyz3mGKu9Th5",
        "outputId": "7080f63c-0860-4609-c3be-83e968dfe772"
      },
      "execution_count": null,
      "outputs": [
        {
          "output_type": "execute_result",
          "data": {
            "text/plain": [
              "[2, 3, 4, 5, 6, 7]"
            ]
          },
          "metadata": {},
          "execution_count": 11
        }
      ]
    },
    {
      "cell_type": "code",
      "source": [
        "#1 - Crie uma lista de notas, e exiba-a da menor para a maior\n",
        "notas = [10.0,7.0,8.0,3.0]\n",
        "notas.sort()\n",
        "#2 - em ordem afabeltica\n",
        "nomes = ['marcelo','maia','tiago','abimael']\n",
        "nomes.sort()\n",
        "#3 - Crie uma lista de notas, exiba do maior para o menor\n",
        "notas1=[10.0,5.0,7.5,4.8]\n",
        "notas1.sort(reverse=True)\n",
        "\n",
        "notas1"
      ],
      "metadata": {
        "colab": {
          "base_uri": "https://localhost:8080/"
        },
        "id": "3_-M9gY2_eB3",
        "outputId": "57a480bb-7833-4e45-99c5-dfbdb4e5c14d"
      },
      "execution_count": null,
      "outputs": [
        {
          "output_type": "execute_result",
          "data": {
            "text/plain": [
              "[10.0, 7.5, 5.0, 4.8]"
            ]
          },
          "metadata": {},
          "execution_count": 18
        }
      ]
    },
    {
      "cell_type": "code",
      "source": [
        "#Exemplo função map - cria uma nova lista com o dobro \n",
        "numeros = [30, 12, 6,27,9]\n",
        "nova_lista = list(map(lambda x : x*2, numeros))\n",
        "nova_lista"
      ],
      "metadata": {
        "colab": {
          "base_uri": "https://localhost:8080/"
        },
        "id": "AfC-GL8hBOd7",
        "outputId": "2af38563-8135-461b-ccaf-37ab6b2c63c3"
      },
      "execution_count": null,
      "outputs": [
        {
          "output_type": "execute_result",
          "data": {
            "text/plain": [
              "[60, 24, 12, 54, 18]"
            ]
          },
          "metadata": {},
          "execution_count": 24
        }
      ]
    },
    {
      "cell_type": "code",
      "source": [
        "#pegar cada um dos numeros e dividir por 3\n",
        "\n",
        "dividir_3 = list(map(lambda x : x/3, numeros))\n",
        "dividir_3"
      ],
      "metadata": {
        "colab": {
          "base_uri": "https://localhost:8080/"
        },
        "id": "_OCMyM3ADGyG",
        "outputId": "4c8dc071-7155-4b43-fdb8-24bf34e15ee9"
      },
      "execution_count": null,
      "outputs": [
        {
          "output_type": "execute_result",
          "data": {
            "text/plain": [
              "[10.0, 4.0, 2.0, 9.0, 3.0]"
            ]
          },
          "metadata": {},
          "execution_count": 22
        }
      ]
    },
    {
      "cell_type": "code",
      "source": [
        "#pegar cada numero e soma 2\n",
        "\n",
        "soma_2 = list(map(lambda x : x + 2,numeros))\n",
        "\n",
        "soma_2"
      ],
      "metadata": {
        "colab": {
          "base_uri": "https://localhost:8080/"
        },
        "id": "DTa72hgqD-r9",
        "outputId": "04f93035-a953-4e93-cd38-8eef23899284"
      },
      "execution_count": null,
      "outputs": [
        {
          "output_type": "execute_result",
          "data": {
            "text/plain": [
              "[32, 14, 8, 29, 11]"
            ]
          },
          "metadata": {},
          "execution_count": 23
        }
      ]
    },
    {
      "cell_type": "code",
      "source": [
        "#Exemplo função filter - a partir de uma lista de nomes, criar uma nova lista apenas com palavras com mais de 5 caracteres\n",
        "\n",
        "nomes = ['josé', 'joao', 'tiago', 'mario', 'Leandrinho', 'marionete', 'wlisses']\n",
        "\n",
        "new_list = list(filter(lambda x : len(x)>5, nomes))\n",
        "new_list\n"
      ],
      "metadata": {
        "colab": {
          "base_uri": "https://localhost:8080/"
        },
        "id": "7Mu6gyEwEpCR",
        "outputId": "ecdb99b5-0171-4acb-8da4-1cff724e5b1f"
      },
      "execution_count": null,
      "outputs": [
        {
          "output_type": "execute_result",
          "data": {
            "text/plain": [
              "['Leandrinho', 'marionete', 'wlisses']"
            ]
          },
          "metadata": {},
          "execution_count": 32
        }
      ]
    },
    {
      "cell_type": "code",
      "source": [
        "#crie uma lista de notas e imprima apenas as maiores que 6\n",
        "\n",
        "notas = [10.0,7.0,5.0,3.0,6.0,8.0,9.0]\n",
        "\n",
        "aprovados = list(filter(lambda x : x > 6, notas))\n",
        "\n",
        "aprovados\n",
        "\n"
      ],
      "metadata": {
        "colab": {
          "base_uri": "https://localhost:8080/"
        },
        "id": "gMgeZA41F8pn",
        "outputId": "b5d96dcf-e907-41b0-956f-962df4b2e126"
      },
      "execution_count": null,
      "outputs": [
        {
          "output_type": "execute_result",
          "data": {
            "text/plain": [
              "[10.0, 7.0, 8.0, 9.0]"
            ]
          },
          "metadata": {},
          "execution_count": 46
        }
      ]
    },
    {
      "cell_type": "code",
      "source": [
        "#Exercícios usando a função map\n",
        "#1 -Dada uma lista de números, retorne uma lista contendo o quadrado de cada número.\n",
        "#2 -Dada uma lista de nomes, retorne uma lista contendo o tamanho de cada nome.\n",
        "#3 -Dada uma lista de números, retorne uma lista contendo apenas os números pares.\n",
        "#4 -Dada uma lista de nomes, retorne uma lista contendo apenas os nomes que começam com a letra \"A\".\n",
        "#5 -Recebe uma lista com notas de alunos, retorna apenas os aprovados (nota maior ou igual a 7)\n",
        "#6 -Recebe uma lista de nomes, retorna apenas os que começam com vogal\n",
        "#7 - Escreva uma função que recebe uma lista de números e retorna uma nova lista contendo apenas os números que são divisíveis por 3 e 5.\n",
        "#8 -Escreva uma função que recebe uma lista de strings e retorna uma nova lista contendo apenas as strings que começam com uma letra maiúscula.\n",
        "#9 -Recebe uma lista de strings, e retorna uma lista apenas com as iniciais de cada string.\n",
        "# 10 -Escreva uma função que recebe uma lista de números e retorna uma nova lista contendo apenas os números pares elevados ao quadrado."
      ],
      "metadata": {
        "id": "w0ovK512IeiD"
      },
      "execution_count": null,
      "outputs": []
    },
    {
      "cell_type": "code",
      "source": [
        "#1\n",
        "listan = [5,7,9,10,7]\n",
        "\n",
        "listaqua = list(map(lambda x : x**2,listan))\n",
        "\n",
        "listaqua"
      ],
      "metadata": {
        "colab": {
          "base_uri": "https://localhost:8080/"
        },
        "id": "NSoHqFc9I_W3",
        "outputId": "9bcb440c-f5d1-4005-8b7a-a911947e0d1d"
      },
      "execution_count": null,
      "outputs": [
        {
          "output_type": "execute_result",
          "data": {
            "text/plain": [
              "[25, 49, 81, 100, 49]"
            ]
          },
          "metadata": {},
          "execution_count": 48
        }
      ]
    },
    {
      "cell_type": "code",
      "source": [
        "#2\n",
        "\n",
        "nomes = ['tiago','marcelo','mario','jonathan','ana','amelia','antony']\n",
        "\n",
        "nomesqnt = list(map(lambda x : len(x),nomes))\n",
        "\n",
        "nomesqnt"
      ],
      "metadata": {
        "colab": {
          "base_uri": "https://localhost:8080/"
        },
        "id": "NibUwA6sJew7",
        "outputId": "c9881528-63e0-4b1b-e018-73de5c4cc26a"
      },
      "execution_count": null,
      "outputs": [
        {
          "output_type": "execute_result",
          "data": {
            "text/plain": [
              "[5, 7, 5, 8]"
            ]
          },
          "metadata": {},
          "execution_count": 51
        }
      ]
    },
    {
      "cell_type": "code",
      "source": [
        "#3\n",
        "numeros=[5,8,9,10,67,95,98,100]\n",
        "\n",
        "pares = list(filter(lambda x : x % 2 == 0,numeros))\n",
        "\n",
        "pares"
      ],
      "metadata": {
        "colab": {
          "base_uri": "https://localhost:8080/"
        },
        "id": "YFW_mWBeKQUI",
        "outputId": "f0041a6b-76e8-4a66-e0e0-f0d4847e18c6"
      },
      "execution_count": null,
      "outputs": [
        {
          "output_type": "execute_result",
          "data": {
            "text/plain": [
              "[8, 10, 98, 100]"
            ]
          },
          "metadata": {},
          "execution_count": 54
        }
      ]
    },
    {
      "cell_type": "code",
      "source": [
        "#4\n",
        "nomes = ['ana','tiago','mateus','antonio','amelia']\n",
        "nomesa = list(filter(lambda x : x[0]=='a',nomes ))\n",
        "\n",
        "nomesa\n"
      ],
      "metadata": {
        "colab": {
          "base_uri": "https://localhost:8080/"
        },
        "id": "wdB6WQJMLAB-",
        "outputId": "253321c3-a5d9-4af2-c519-566db81c741f"
      },
      "execution_count": null,
      "outputs": [
        {
          "output_type": "execute_result",
          "data": {
            "text/plain": [
              "['ana', 'antonio', 'amelia']"
            ]
          },
          "metadata": {},
          "execution_count": 66
        }
      ]
    },
    {
      "cell_type": "code",
      "source": [
        "#5\n",
        "\n",
        "notas=[10.0,7.0,4.0,8.5,7.5]\n",
        "\n",
        "aprovados = list(filter(lambda x : x >= 7,notas))\n",
        "\n",
        "aprovados"
      ],
      "metadata": {
        "colab": {
          "base_uri": "https://localhost:8080/"
        },
        "id": "uAYKGB4cMtZR",
        "outputId": "e3545bf5-c1c7-47b8-8bd8-71c05ee6932c"
      },
      "execution_count": null,
      "outputs": [
        {
          "output_type": "execute_result",
          "data": {
            "text/plain": [
              "[10.0, 7.0, 8.5, 7.5]"
            ]
          },
          "metadata": {},
          "execution_count": 68
        }
      ]
    },
    {
      "cell_type": "code",
      "source": [
        "#6\n",
        "\n",
        "nomes = ['ana','julia','tiago','mateus','amanda','otavio','iarley']\n",
        "\n",
        "nomesv = list(filter(lambda x :x[0] in 'aeiou' ,nomes))\n",
        "\n",
        "nomesv"
      ],
      "metadata": {
        "colab": {
          "base_uri": "https://localhost:8080/"
        },
        "id": "8ZfWvBElNM-R",
        "outputId": "1fcf10f4-2a5b-49fa-91aa-3263cec48248"
      },
      "execution_count": null,
      "outputs": [
        {
          "output_type": "execute_result",
          "data": {
            "text/plain": [
              "['ana', 'amanda', 'otavio', 'iarley']"
            ]
          },
          "metadata": {},
          "execution_count": 96
        }
      ]
    },
    {
      "cell_type": "code",
      "source": [
        "#7\n",
        "\n",
        "numeros = [1,5,10,18,15,9,50,90,6,25,10]\n",
        "\n",
        "numerosd = list(filter(lambda x : x % 3 == 0 or x % 5 == 0 , numeros))\n",
        "\n",
        "numerosd"
      ],
      "metadata": {
        "id": "zTo6PoH6RIJV",
        "colab": {
          "base_uri": "https://localhost:8080/"
        },
        "outputId": "8d31b50d-98f3-483f-eb5b-e9b4d739b1ba"
      },
      "execution_count": 5,
      "outputs": [
        {
          "output_type": "execute_result",
          "data": {
            "text/plain": [
              "[5, 10, 18, 15, 9, 50, 90, 6, 25, 10]"
            ]
          },
          "metadata": {},
          "execution_count": 5
        }
      ]
    },
    {
      "cell_type": "code",
      "source": [
        "#8\n",
        "\n",
        "letras = ['amanda','Banana','cachorro','Danone','extensâo','Fernando','Computador']\n",
        "\n",
        "letras1 = list(filter(lambda x : x[0].isupper() , letras))\n",
        "\n",
        "letras1"
      ],
      "metadata": {
        "colab": {
          "base_uri": "https://localhost:8080/"
        },
        "id": "ynAeBLz8jgkJ",
        "outputId": "c516d975-e802-47a6-9864-770e294f7ddb"
      },
      "execution_count": 1,
      "outputs": [
        {
          "output_type": "execute_result",
          "data": {
            "text/plain": [
              "['Banana', 'Danone', 'Fernando', 'Computador']"
            ]
          },
          "metadata": {},
          "execution_count": 1
        }
      ]
    },
    {
      "cell_type": "code",
      "source": [
        "#9\n",
        "\n",
        "palavras = ['Tiago','matheus','jorge','maria','lucas']\n",
        "\n",
        "palavras1 = list(map(lambda x : x[0],palavras))\n",
        "\n",
        "palavras1\n"
      ],
      "metadata": {
        "colab": {
          "base_uri": "https://localhost:8080/"
        },
        "id": "Nvm5t-pU0VgM",
        "outputId": "bf70fac0-d78b-4ab1-b5ba-0d7b3f01d786"
      },
      "execution_count": 17,
      "outputs": [
        {
          "output_type": "execute_result",
          "data": {
            "text/plain": [
              "['T', 'm', 'j', 'm', 'l']"
            ]
          },
          "metadata": {},
          "execution_count": 17
        }
      ]
    },
    {
      "cell_type": "code",
      "source": [
        "#10\n",
        "\n",
        "lnums = [1,5,10,20,27,4,2,8,442]\n",
        "\n",
        "lnumsp = list(filter(lambda x : (x**2) % 2 == 0 , lnums))\n",
        "\n",
        "lnumsp"
      ],
      "metadata": {
        "colab": {
          "base_uri": "https://localhost:8080/"
        },
        "id": "6GM-DaY137kQ",
        "outputId": "7b021ceb-2e20-4a0e-bcdf-972ceee6a988"
      },
      "execution_count": 20,
      "outputs": [
        {
          "output_type": "execute_result",
          "data": {
            "text/plain": [
              "[10, 20, 4, 2, 8, 442]"
            ]
          },
          "metadata": {},
          "execution_count": 20
        }
      ]
    }
  ]
}