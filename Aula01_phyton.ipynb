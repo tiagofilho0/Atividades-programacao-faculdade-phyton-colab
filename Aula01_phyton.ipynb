{
  "nbformat": 4,
  "nbformat_minor": 0,
  "metadata": {
    "colab": {
      "provenance": [],
      "authorship_tag": "ABX9TyOT3OcTbEeF6MoMZGk5tFgy",
      "include_colab_link": true
    },
    "kernelspec": {
      "name": "python3",
      "display_name": "Python 3"
    },
    "language_info": {
      "name": "python"
    }
  },
  "cells": [
    {
      "cell_type": "markdown",
      "metadata": {
        "id": "view-in-github",
        "colab_type": "text"
      },
      "source": [
        "<a href=\"https://colab.research.google.com/github/tiagofilho0/Aulas-de-programacao/blob/main/Aula01_phyton.ipynb\" target=\"_parent\"><img src=\"https://colab.research.google.com/assets/colab-badge.svg\" alt=\"Open In Colab\"/></a>"
      ]
    },
    {
      "cell_type": "code",
      "source": [
        "print(\"teste\")"
      ],
      "metadata": {
        "colab": {
          "base_uri": "https://localhost:8080/"
        },
        "id": "5Paw6PCuwCsY",
        "outputId": "d2406d1f-1c41-44fa-a881-2e8179419803"
      },
      "execution_count": 3,
      "outputs": [
        {
          "output_type": "stream",
          "name": "stdout",
          "text": [
            "teste\n"
          ]
        }
      ]
    },
    {
      "cell_type": "code",
      "source": [
        "#variaveis\n",
        "\n",
        "nome = \"tiaguinho show\"\n",
        "print(nome)\n"
      ],
      "metadata": {
        "colab": {
          "base_uri": "https://localhost:8080/"
        },
        "id": "NX10MqQvwSlU",
        "outputId": "496c4e53-623c-4cc6-8360-5ab8b0be2954"
      },
      "execution_count": 5,
      "outputs": [
        {
          "output_type": "stream",
          "name": "stdout",
          "text": [
            "tiaguinho show\n"
          ]
        }
      ]
    },
    {
      "cell_type": "code",
      "source": [
        "#operaçoes com variáveis\n",
        "\n",
        "a = 20\n",
        "b = 35\n",
        "soma = a + b\n",
        "subtracao = a - b\n",
        "divisao = a / b\n",
        "multiplicacao = a * b\n"
      ],
      "metadata": {
        "id": "11rSwZj_w9IK"
      },
      "execution_count": 8,
      "outputs": []
    },
    {
      "cell_type": "code",
      "source": [
        "print(soma) \n",
        "print(subtracao)\n",
        "print(divisao)\n",
        "print(multiplicacao)"
      ],
      "metadata": {
        "colab": {
          "base_uri": "https://localhost:8080/"
        },
        "id": "eAJuS0brxyvB",
        "outputId": "14278c7b-d192-4a0d-c891-252ef7533a85"
      },
      "execution_count": 9,
      "outputs": [
        {
          "output_type": "stream",
          "name": "stdout",
          "text": [
            "55\n",
            "-15\n",
            "0.5714285714285714\n",
            "700\n"
          ]
        }
      ]
    },
    {
      "cell_type": "markdown",
      "source": [
        "Questões\n",
        "\n",
        "1. pega o numero de uma variavel, e devolva o dobro\n",
        "\n",
        "2. lê 3 notas e devolve a média aritmetica\n",
        "\n",
        "3. pede o ano de nascimento da pessoa e calcula a idade atual dela\n",
        "\n"
      ],
      "metadata": {
        "id": "Ryu_bfLXyRJw"
      }
    },
    {
      "cell_type": "code",
      "source": [
        "# questão 1\n",
        "\n",
        "numero = 50\n",
        "\n",
        "soma = numero * 2\n",
        "\n",
        "print(soma)\n"
      ],
      "metadata": {
        "colab": {
          "base_uri": "https://localhost:8080/"
        },
        "id": "MxE1N-1my7nI",
        "outputId": "e07f4c09-d335-4ffa-ea3c-72ba7f6b50a9"
      },
      "execution_count": 12,
      "outputs": [
        {
          "output_type": "stream",
          "name": "stdout",
          "text": [
            "100\n"
          ]
        }
      ]
    },
    {
      "cell_type": "code",
      "source": [
        "#questão 2\n",
        "\n",
        "nota1 = 7.0\n",
        "nota2 = 8.0\n",
        "nota3 = 9.0\n",
        "\n",
        "soma = (nota1 + nota2 + nota3) / 3\n",
        "\n",
        "print(soma)"
      ],
      "metadata": {
        "colab": {
          "base_uri": "https://localhost:8080/"
        },
        "id": "BeymOU4SzTY-",
        "outputId": "cc5c2671-d9ba-4f37-e69b-4400950535be"
      },
      "execution_count": 19,
      "outputs": [
        {
          "output_type": "stream",
          "name": "stdout",
          "text": [
            "8.0\n"
          ]
        }
      ]
    },
    {
      "cell_type": "code",
      "source": [
        "#questão 3\n",
        "\n",
        "anodn = 2005\n",
        "\n",
        "idade = 2023 - anodn\n",
        "\n",
        "print(idade)\n"
      ],
      "metadata": {
        "colab": {
          "base_uri": "https://localhost:8080/"
        },
        "id": "zkm2LlN4z_86",
        "outputId": "0bfc48f1-aff5-4019-d6b7-b5a1542f655a"
      },
      "execution_count": 23,
      "outputs": [
        {
          "output_type": "stream",
          "name": "stdout",
          "text": [
            "18\n"
          ]
        }
      ]
    },
    {
      "cell_type": "code",
      "source": [
        "#INPUTS\n",
        "\n",
        "nome = input(\"qual o seu nome:\")\n",
        "print(\" diga tudo \"+ nome)\n"
      ],
      "metadata": {
        "colab": {
          "base_uri": "https://localhost:8080/"
        },
        "id": "JZMS6-Se2SnM",
        "outputId": "ef9ed53c-2de4-4228-c339-a8d85cf75771"
      },
      "execution_count": 38,
      "outputs": [
        {
          "output_type": "stream",
          "name": "stdout",
          "text": [
            "qual o seu nome:Tiago\n",
            " diga tudo Tiago\n"
          ]
        }
      ]
    },
    {
      "cell_type": "code",
      "source": [
        "#mutiplicao\n",
        "#parse\n",
        "\n",
        "n1 = int(input('digite o primeiro numero: '))\n",
        "\n",
        "n2 = int(input('digite o mutiplicador:'))\n",
        "\n",
        "print(n1*n2)\n",
        "\n",
        "\n"
      ],
      "metadata": {
        "colab": {
          "base_uri": "https://localhost:8080/"
        },
        "id": "dNtvVp4s4ffj",
        "outputId": "78169a0f-1c68-425d-c3b6-00e930bdb3e8"
      },
      "execution_count": 54,
      "outputs": [
        {
          "output_type": "stream",
          "name": "stdout",
          "text": [
            "digite o primeiro numero: 2\n",
            "digite o mutiplicador:8\n",
            "16\n"
          ]
        }
      ]
    }
  ]
}