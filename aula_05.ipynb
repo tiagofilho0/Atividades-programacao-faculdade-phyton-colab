{
  "nbformat": 4,
  "nbformat_minor": 0,
  "metadata": {
    "colab": {
      "provenance": [],
      "authorship_tag": "ABX9TyM/Ms3Ax+KA1J0LLq9MmN+1",
      "include_colab_link": true
    },
    "kernelspec": {
      "name": "python3",
      "display_name": "Python 3"
    },
    "language_info": {
      "name": "python"
    }
  },
  "cells": [
    {
      "cell_type": "markdown",
      "metadata": {
        "id": "view-in-github",
        "colab_type": "text"
      },
      "source": [
        "<a href=\"https://colab.research.google.com/github/tiagofilho0/Atividades-programacao-faculdade-phyton-colab/blob/main/aula_05.ipynb\" target=\"_parent\"><img src=\"https://colab.research.google.com/assets/colab-badge.svg\" alt=\"Open In Colab\"/></a>"
      ]
    },
    {
      "cell_type": "code",
      "execution_count": 6,
      "metadata": {
        "colab": {
          "base_uri": "https://localhost:8080/"
        },
        "id": "DssBNdVI1_IT",
        "outputId": "42a80595-9cdc-4418-a5eb-1decc8bed08a"
      },
      "outputs": [
        {
          "output_type": "stream",
          "name": "stdout",
          "text": [
            "minnha primeira funçâo\n"
          ]
        }
      ],
      "source": [
        "#declaração da função\n",
        "def primeiraFuncao():\n",
        "  print('minnha primeira funçâo')\n",
        "\n",
        "#chamando função\n",
        "primeiraFuncao()\n",
        "\n"
      ]
    },
    {
      "cell_type": "code",
      "source": [
        "primeiraFuncao()"
      ],
      "metadata": {
        "colab": {
          "base_uri": "https://localhost:8080/"
        },
        "id": "llL-KsDK3q_G",
        "outputId": "ee302858-43fd-4370-f878-0138d63e43dd"
      },
      "execution_count": 4,
      "outputs": [
        {
          "output_type": "stream",
          "name": "stdout",
          "text": [
            "minnha primeira funçaõ\n"
          ]
        }
      ]
    },
    {
      "cell_type": "markdown",
      "source": [
        "# Aegumentos e parametros\n"
      ],
      "metadata": {
        "id": "gAeO_zrc4WPe"
      }
    },
    {
      "cell_type": "code",
      "source": [
        "def pronomeTratam(pronome):\n",
        "  print(pronome, 'Tiago')\n",
        "\n",
        "pronomeTratam('doutor')\n",
        "pronomeTratam('Mestre')\n",
        "pronomeTratam('senhor')"
      ],
      "metadata": {
        "colab": {
          "base_uri": "https://localhost:8080/"
        },
        "id": "LXa7T9fK4VPn",
        "outputId": "ac2c2654-6485-413c-eef1-3da4ada49741"
      },
      "execution_count": 7,
      "outputs": [
        {
          "output_type": "stream",
          "name": "stdout",
          "text": [
            "doutor Tiago\n",
            "Mestre Tiago\n",
            "senhor Tiago\n"
          ]
        }
      ]
    },
    {
      "cell_type": "code",
      "source": [
        "#uma  função deve ser chamada com o numero certinho de argumentos\n",
        "def boasVindas(nome, cargo):\n",
        "  print(f'olá {cargo} {nome}')\n",
        "\n",
        "boasVindas('Tiago','Ciêntista')\n",
        "boasVindas('jorge','doutor')\n",
        "boasVindas('pedro', 'bombeiro')"
      ],
      "metadata": {
        "colab": {
          "base_uri": "https://localhost:8080/"
        },
        "id": "HilQ0_bd4-z7",
        "outputId": "a6e0977a-872c-48eb-ee28-0089d7e5e353"
      },
      "execution_count": 13,
      "outputs": [
        {
          "output_type": "stream",
          "name": "stdout",
          "text": [
            "olá Ciêntista Tiago\n",
            "olá doutor jorge\n",
            "olá bombeiro pedro\n"
          ]
        }
      ]
    },
    {
      "cell_type": "code",
      "source": [
        "def funcaoSemNome(nome,anoNascim):\n",
        "  idade = 2023 - anoNascim\n",
        "  print(nome , idade)\n",
        "\n",
        "funcaoSemNome('tiago', 2005)\n"
      ],
      "metadata": {
        "colab": {
          "base_uri": "https://localhost:8080/"
        },
        "id": "IsOYvQg67bvQ",
        "outputId": "1c474e9a-1d39-4f8a-b9c2-caa380032b26"
      },
      "execution_count": 17,
      "outputs": [
        {
          "output_type": "stream",
          "name": "stdout",
          "text": [
            "tiago 18\n"
          ]
        }
      ]
    },
    {
      "cell_type": "code",
      "source": [
        "#Argumentos arbitrários *args \n",
        "#Quando não se tem certeza quantos argumentos são passados pela função\n",
        "\n",
        "def somaNotas(*notas):\n",
        "  soma = 0\n",
        "  for nota in notas:\n",
        "    soma+= nota\n",
        "  print(soma / len(notas))\n",
        "\n",
        "somaNotas(7,9,7,5,9,10)"
      ],
      "metadata": {
        "colab": {
          "base_uri": "https://localhost:8080/"
        },
        "id": "0ToRBQgf9SyO",
        "outputId": "09422afe-8eee-44fb-b185-1901d5936f90"
      },
      "execution_count": 37,
      "outputs": [
        {
          "output_type": "stream",
          "name": "stdout",
          "text": [
            "7.833333333333333\n"
          ]
        }
      ]
    },
    {
      "cell_type": "code",
      "source": [
        "#valor de parâmetro padrão\n",
        "def nacionalidade(country = 'china'):\n",
        "  print('eu nasci em: '+country)\n",
        "\n",
        "nacionalidade('Brasil')\n",
        "nacionalidade('EUA')\n",
        "nacionalidade('acré')\n",
        "nacionalidade()\n"
      ],
      "metadata": {
        "colab": {
          "base_uri": "https://localhost:8080/"
        },
        "id": "68u7BVk68b9X",
        "outputId": "00acad0a-ef50-401f-9827-b031fc0ddfaa"
      },
      "execution_count": 44,
      "outputs": [
        {
          "output_type": "stream",
          "name": "stdout",
          "text": [
            "eu nasci em: Brasil\n",
            "eu nasci em: EUA\n",
            "eu nasci em: acré\n",
            "eu nasci em: china\n"
          ]
        }
      ]
    },
    {
      "cell_type": "code",
      "source": [
        "def imc(peso, altura):\n",
        "  return peso/altura**2\n",
        "  \n",
        "\n",
        "imc(49,1.67)\n",
        "\n",
        "\n"
      ],
      "metadata": {
        "colab": {
          "base_uri": "https://localhost:8080/"
        },
        "id": "W0Ru0UU5Bwjw",
        "outputId": "c0c4d20c-907c-48df-db67-1254e46aaa68"
      },
      "execution_count": 56,
      "outputs": [
        {
          "output_type": "execute_result",
          "data": {
            "text/plain": [
              "17.569651116927822"
            ]
          },
          "metadata": {},
          "execution_count": 56
        }
      ]
    },
    {
      "cell_type": "code",
      "source": [
        "def situacaoPeso(imc):\n",
        "  if(imc < 18.5):\n",
        "    print('Abaixo do peso normal')\n",
        "  elif(imc < 24.9):\n",
        "    print('Peso normal')\n",
        "  elif(imc < 29.9):\n",
        "    print('Excesso de peso')\n",
        "  elif(imc < 34.9):\n",
        "    print('Obesidade tipo I')\n",
        "  elif(imc < 39.9):\n",
        "    print('Obesidade tipo II')\n",
        "  else:\n",
        "    print('Obesidade tipo III')\n",
        "\n",
        "situacaoPeso(imc(49,1.67))"
      ],
      "metadata": {
        "colab": {
          "base_uri": "https://localhost:8080/"
        },
        "id": "XQWSWtBuCyke",
        "outputId": "031625ac-f880-4227-c226-4e16fbf5d2ba"
      },
      "execution_count": 57,
      "outputs": [
        {
          "output_type": "stream",
          "name": "stdout",
          "text": [
            "Abaixo do peso normal\n"
          ]
        }
      ]
    },
    {
      "cell_type": "code",
      "source": [
        "#Soma\n",
        "def soma(a,b):\n",
        "  return a + b\n",
        "#Subtração\n",
        "def subtracao(a,b):\n",
        "  return a - b\n",
        "#Divisão\n",
        "def divisao(a,b):\n",
        " return a / b\n",
        "#Mutiplicação\n",
        "def mutiplicacao(a,b):\n",
        " return a * b\n",
        "\n",
        "a = int(input('informe o primeirp numero:'))\n",
        "b = int(input('informe o segundo numero'))\n",
        "\n",
        "\n"
      ],
      "metadata": {
        "id": "GP75pb-pEkyu"
      },
      "execution_count": null,
      "outputs": []
    }
  ]
}