{
  "nbformat": 4,
  "nbformat_minor": 0,
  "metadata": {
    "colab": {
      "provenance": [],
      "authorship_tag": "ABX9TyNRHefIMmKvov6p0tvSJKMN",
      "include_colab_link": true
    },
    "kernelspec": {
      "name": "python3",
      "display_name": "Python 3"
    },
    "language_info": {
      "name": "python"
    }
  },
  "cells": [
    {
      "cell_type": "markdown",
      "metadata": {
        "id": "view-in-github",
        "colab_type": "text"
      },
      "source": [
        "<a href=\"https://colab.research.google.com/github/tiagofilho0/Aulas-de-programacao/blob/main/Aula02_%2203%22.ipynb\" target=\"_parent\"><img src=\"https://colab.research.google.com/assets/colab-badge.svg\" alt=\"Open In Colab\"/></a>"
      ]
    },
    {
      "cell_type": "code",
      "execution_count": 5,
      "metadata": {
        "id": "CPL3uqpuhpAW",
        "colab": {
          "base_uri": "https://localhost:8080/"
        },
        "outputId": "c3c80389-049a-4824-f5ed-e1ada19cd8eb"
      },
      "outputs": [
        {
          "output_type": "stream",
          "name": "stdout",
          "text": [
            "meu nome é tiago e minha idade é  17\n"
          ]
        }
      ],
      "source": [
        " idade = 17\n",
        "\n",
        "print('meu nome é tiago e minha idade é ',idade)"
      ]
    },
    {
      "cell_type": "code",
      "source": [
        "a = 70\n",
        "b = 55\n",
        "\n",
        "print(a+b)\n",
        "print(a-b)\n",
        "print(a*b)\n",
        "print(a/b)\n",
        "print(a%b) # resto da divisão"
      ],
      "metadata": {
        "colab": {
          "base_uri": "https://localhost:8080/"
        },
        "id": "SHI426sElnmw",
        "outputId": "c97ddf85-1550-4265-a8a8-0f33f9d14e0c"
      },
      "execution_count": 4,
      "outputs": [
        {
          "output_type": "stream",
          "name": "stdout",
          "text": [
            "125\n",
            "15\n",
            "3850\n",
            "1.2727272727272727\n",
            "15\n"
          ]
        }
      ]
    },
    {
      "cell_type": "code",
      "source": [
        "nome = input('digite o seu nome: ') #Strings\n",
        "\n",
        "print('olá, ' + nome)"
      ],
      "metadata": {
        "colab": {
          "base_uri": "https://localhost:8080/"
        },
        "id": "80QVVUchmANF",
        "outputId": "f9d248c6-e4a3-4e6c-e7d0-d5e087af481f"
      },
      "execution_count": 8,
      "outputs": [
        {
          "output_type": "stream",
          "name": "stdout",
          "text": [
            "digite o seu nome: Tiago\n",
            "olá, Tiago\n"
          ]
        }
      ]
    },
    {
      "cell_type": "code",
      "source": [
        "# codigo para dizer a idade\n",
        "\n",
        "anoN = int(input('digite seu ano de nascimento:'))\n",
        "# para transformar em int pode ser como o de cima ou o de baixo\n",
        "print('sua idade é:', 2023 - int(anoN))\n"
      ],
      "metadata": {
        "colab": {
          "base_uri": "https://localhost:8080/"
        },
        "id": "HaHMIWEdnrSU",
        "outputId": "c6da2e12-e6e0-4b69-f41f-e841c48bf09f"
      },
      "execution_count": 12,
      "outputs": [
        {
          "output_type": "stream",
          "name": "stdout",
          "text": [
            "digite seu ano de nascimento:2005\n",
            "sua idade é: 18\n"
          ]
        }
      ]
    },
    {
      "cell_type": "code",
      "source": [
        "#faça o IMC\n",
        "#IMC = peso / aultura**2\n",
        "\n",
        "peso = float(input('informe o peso:'))\n",
        "\n",
        "altura = float(input('informe a altura:'))\n",
        "\n",
        "imc = peso/altura**2\n",
        "\n",
        "print('o seu IMC é ',round(imc,2) )"
      ],
      "metadata": {
        "colab": {
          "base_uri": "https://localhost:8080/"
        },
        "id": "OZpgnxQspbwz",
        "outputId": "9fc3d4ae-dacb-4800-f40a-5dbeb7b745d3"
      },
      "execution_count": 31,
      "outputs": [
        {
          "output_type": "stream",
          "name": "stdout",
          "text": [
            "informe o peso:49.5\n",
            "informe a altura:1.67\n",
            "o seu IMC é  17.75\n"
          ]
        }
      ]
    },
    {
      "cell_type": "code",
      "source": [
        "#Verificações logicas\n",
        "\n",
        "a = 45\n",
        "b = 33\n",
        "print(a > b) #true\n",
        "print(a < b) #false\n",
        "print(a == b) #false\n",
        "print(a != b) #"
      ],
      "metadata": {
        "id": "jOBCHXIxuyed"
      },
      "execution_count": null,
      "outputs": []
    },
    {
      "cell_type": "code",
      "source": [
        "#verificar se o numero e impar ou par\n",
        "\n",
        "nume = int(input('digite um numero:'))\n",
        "\n",
        "if(nume%2 == 0):\n",
        " print('o numero é par')\n",
        "else:\n",
        " print('o numero é impar')"
      ],
      "metadata": {
        "colab": {
          "base_uri": "https://localhost:8080/"
        },
        "id": "P6EyANg9uT6-",
        "outputId": "70c456b3-736e-45d8-af54-8ac1bf1836f7"
      },
      "execution_count": 38,
      "outputs": [
        {
          "output_type": "stream",
          "name": "stdout",
          "text": [
            "digite um numero:7\n",
            "o numero é impar\n"
          ]
        }
      ]
    },
    {
      "cell_type": "code",
      "source": [
        "#em um campeaonato de MMA, tem três tipos categorias por peso\n",
        "#galo Ate 70kg\n",
        "#medio até 80kg\n",
        "#meio pesado até 90kg\n",
        "# pesado acima de 90kg\n",
        "peso = float(input('digite o peso do atleta:'))\n",
        "\n",
        "if( peso <= 70):\n",
        "  print('leve')\n",
        "elif( peso <= 80):\n",
        "  print('médio')\n",
        "elif( peso <= 90):\n",
        "    print('meio pesado')\n",
        "else:\n",
        "  print('pesado')\n"
      ],
      "metadata": {
        "colab": {
          "base_uri": "https://localhost:8080/"
        },
        "id": "sWiB3D9vyUwy",
        "outputId": "3a536e09-47b6-4cc4-c529-53ea57640c3f"
      },
      "execution_count": 44,
      "outputs": [
        {
          "output_type": "stream",
          "name": "stdout",
          "text": [
            "digite o peso do atleta:91\n",
            "pesado\n"
          ]
        }
      ]
    },
    {
      "cell_type": "code",
      "source": [
        "#Refaça o exemplo IMC com as regras dadas\n",
        "peso = float(input('informe o peso:'))\n",
        "\n",
        "altura = float(input('informe a altura:'))\n",
        "\n",
        "imc = peso/altura**2\n",
        "\n",
        "print('o IMC é ',round(imc,2) )\n",
        "\n",
        "if( imc < 18.5):\n",
        "  print('você está abaixo do peso normal')\n",
        "elif( imc <= 24.9):\n",
        "  print('você está no peso normal')\n",
        "elif(imc <= 29.9):\n",
        "  print('você está em excesso de peso')\n",
        "elif( imc <=34.9):\n",
        "  print('você está em obesidade classe 1')\n",
        "elif(imc <=39.9):\n",
        "  print('você está em obesidade classe 2')\n",
        "else:\n",
        "  print('você está em obesidade classe 3')"
      ],
      "metadata": {
        "colab": {
          "base_uri": "https://localhost:8080/"
        },
        "id": "6a0-3rnn1bcq",
        "outputId": "ce54aa4a-1a8b-457f-90af-9f0a413f5f41"
      },
      "execution_count": 59,
      "outputs": [
        {
          "output_type": "stream",
          "name": "stdout",
          "text": [
            "informe o peso:49\n",
            "informe a altura:1.68\n",
            "o IMC é  17.36\n",
            "você está abaixo do peso normal\n"
          ]
        }
      ]
    }
  ]
}