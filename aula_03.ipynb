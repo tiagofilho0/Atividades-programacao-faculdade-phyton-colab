{
  "nbformat": 4,
  "nbformat_minor": 0,
  "metadata": {
    "colab": {
      "provenance": [],
      "authorship_tag": "ABX9TyN16DgCUsv6Hv6TWft2GO0R",
      "include_colab_link": true
    },
    "kernelspec": {
      "name": "python3",
      "display_name": "Python 3"
    },
    "language_info": {
      "name": "python"
    }
  },
  "cells": [
    {
      "cell_type": "markdown",
      "metadata": {
        "id": "view-in-github",
        "colab_type": "text"
      },
      "source": [
        "<a href=\"https://colab.research.google.com/github/tiagofilho0/Atividades-programacao-faculdade-phyton-colab/blob/main/aula_03.ipynb\" target=\"_parent\"><img src=\"https://colab.research.google.com/assets/colab-badge.svg\" alt=\"Open In Colab\"/></a>"
      ]
    },
    {
      "cell_type": "code",
      "execution_count": 21,
      "metadata": {
        "colab": {
          "base_uri": "https://localhost:8080/"
        },
        "id": "QC4a8eXXpXZX",
        "outputId": "22b16b7f-cfa1-4564-f0ff-4cf8652cb9c5"
      },
      "outputs": [
        {
          "output_type": "stream",
          "name": "stdout",
          "text": [
            "digite a sua idade:23\n",
            "pode tirar habilitação\n"
          ]
        }
      ],
      "source": [
        "#se a idade for maior que 16, exiba:pode tirar habilitação\n",
        "\n",
        "ide = int(input('digite a sua idade:'))\n",
        "\n",
        "if(ide >= 16):\n",
        " print('pode tirar habilitação')\n",
        "else:\n",
        "  print('não pode tirar habilitação')"
      ]
    },
    {
      "cell_type": "code",
      "source": [
        "sexo = input('Digite seu sexo, (m) para masculino e (f) para feminino:')\n",
        "idade = int(input('digite sua idade:'))\n",
        "\n",
        "if(sexo == 'f' and idade >=55) or (sexo == 'm' and idade >=60):\n",
        "  print('Você pode se aposentar')\n",
        "else:\n",
        "  print('você não pode se aposentar')"
      ],
      "metadata": {
        "colab": {
          "base_uri": "https://localhost:8080/"
        },
        "id": "QCc4wKbQq1PL",
        "outputId": "04e578e4-3320-41bb-bcb7-f3bc4c360c40"
      },
      "execution_count": 20,
      "outputs": [
        {
          "output_type": "stream",
          "name": "stdout",
          "text": [
            "Digite seu sexo, (m) para masculino e (f) para feminino:m\n",
            "digite sua idade:51\n",
            "você não pode se aposentar\n"
          ]
        }
      ]
    }
  ]
}