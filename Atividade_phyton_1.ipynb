{
  "nbformat": 4,
  "nbformat_minor": 0,
  "metadata": {
    "colab": {
      "provenance": [],
      "authorship_tag": "ABX9TyOh5SqFYCwbEJEJOZFQARJ6",
      "include_colab_link": true
    },
    "kernelspec": {
      "name": "python3",
      "display_name": "Python 3"
    },
    "language_info": {
      "name": "python"
    }
  },
  "cells": [
    {
      "cell_type": "markdown",
      "metadata": {
        "id": "view-in-github",
        "colab_type": "text"
      },
      "source": [
        "<a href=\"https://colab.research.google.com/github/tiagofilho0/Atividades-programacao-faculdade-phyton-colab/blob/main/Atividade_phyton_1.ipynb\" target=\"_parent\"><img src=\"https://colab.research.google.com/assets/colab-badge.svg\" alt=\"Open In Colab\"/></a>"
      ]
    },
    {
      "cell_type": "code",
      "execution_count": 6,
      "metadata": {
        "colab": {
          "base_uri": "https://localhost:8080/"
        },
        "id": "Ee1nFQrBMB62",
        "outputId": "6040abab-4d5d-4799-e201-262c50cd3b62"
      },
      "outputs": [
        {
          "output_type": "stream",
          "name": "stdout",
          "text": [
            "digite o numero que representa A:10\n",
            "digite o numero que representa B:15\n",
            "digite o numero que representa C:30\n",
            "C e maior que a soma de A e B\n"
          ]
        }
      ],
      "source": [
        "#Desenvolva um algoritmo que solicite três números A, B e C. Imprima na tela se A+B é menor que C.\n",
        "\n",
        "na = int(input('digite o numero que representa A:'))\n",
        "nb = int(input('digite o numero que representa B:'))\n",
        "nc = int(input('digite o numero que representa C:'))\n",
        "\n",
        "nab = (na + nb)\n",
        "\n",
        "if(nab > nc):\n",
        " print('a soma de A e B e maior que C')\n",
        "elif(nab == nc):\n",
        "  print(' a soma de A e B e igual a C')\n",
        "else:\n",
        " print('C e maior que a soma de A e B')\n"
      ]
    },
    {
      "cell_type": "code",
      "source": [
        "#Desenvolva um programa que recebe um número e informa na tela se é par ou impar.\n",
        "\n",
        "num = int(input('digite um numero:'))\n",
        "\n",
        "if(num%2 == 0):\n",
        " print('o numero é par')\n",
        "else:\n",
        " print('o numero é impar')\n",
        "     "
      ],
      "metadata": {
        "colab": {
          "base_uri": "https://localhost:8080/"
        },
        "id": "h6X6casXPorn",
        "outputId": "bf39c8ad-a022-44a2-a99d-4294cc737045"
      },
      "execution_count": 7,
      "outputs": [
        {
          "output_type": "stream",
          "name": "stdout",
          "text": [
            "digite um numero:234\n",
            "o numero é par\n"
          ]
        }
      ]
    },
    {
      "cell_type": "code",
      "source": [
        "#Escreva um algoritmo que recebe um número e diz se ele é múltiplo de 3.\n",
        "\n",
        "num = int(input('digite o numero:'))\n",
        "\n",
        "if not (num % 3):\n",
        " print('O numero é mutiplo de três')\n",
        "else:\n",
        "  print('O numero não é mutiplo de três')"
      ],
      "metadata": {
        "colab": {
          "base_uri": "https://localhost:8080/"
        },
        "id": "B5-cOdmTP340",
        "outputId": "088c739b-3d62-48c9-e08b-cae296dd96d6"
      },
      "execution_count": 12,
      "outputs": [
        {
          "output_type": "stream",
          "name": "stdout",
          "text": [
            "digite o numero:11\n",
            "O numero não é mutiplo de três\n"
          ]
        }
      ]
    }
  ]
}