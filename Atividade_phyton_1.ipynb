{
  "nbformat": 4,
  "nbformat_minor": 0,
  "metadata": {
    "colab": {
      "provenance": [],
      "authorship_tag": "ABX9TyMB0WnWJbKcN+u7udfIafJ9",
      "include_colab_link": true
    },
    "kernelspec": {
      "name": "python3",
      "display_name": "Python 3"
    },
    "language_info": {
      "name": "python"
    }
  },
  "cells": [
    {
      "cell_type": "markdown",
      "metadata": {
        "id": "view-in-github",
        "colab_type": "text"
      },
      "source": [
        "<a href=\"https://colab.research.google.com/github/tiagofilho0/Atividades-programacao-faculdade-phyton-colab/blob/main/Atividade_phyton_1.ipynb\" target=\"_parent\"><img src=\"https://colab.research.google.com/assets/colab-badge.svg\" alt=\"Open In Colab\"/></a>"
      ]
    },
    {
      "cell_type": "code",
      "execution_count": null,
      "metadata": {
        "colab": {
          "base_uri": "https://localhost:8080/"
        },
        "id": "Ee1nFQrBMB62",
        "outputId": "6040abab-4d5d-4799-e201-262c50cd3b62"
      },
      "outputs": [
        {
          "output_type": "stream",
          "name": "stdout",
          "text": [
            "digite o numero que representa A:10\n",
            "digite o numero que representa B:15\n",
            "digite o numero que representa C:30\n",
            "C e maior que a soma de A e B\n"
          ]
        }
      ],
      "source": [
        "#Desenvolva um algoritmo que solicite três números A, B e C. Imprima na tela se A+B é menor que C.\n",
        "\n",
        "na = int(input('digite o numero que representa A:'))\n",
        "nb = int(input('digite o numero que representa B:'))\n",
        "nc = int(input('digite o numero que representa C:'))\n",
        "\n",
        "nab = (na + nb)\n",
        "\n",
        "if(nab > nc):\n",
        " print('a soma de A e B e maior que C')\n",
        "elif(nab == nc):\n",
        "  print(' a soma de A e B e igual a C')\n",
        "else:\n",
        " print('C e maior que a soma de A e B')\n"
      ]
    },
    {
      "cell_type": "code",
      "source": [
        "#Desenvolva um programa que recebe um número e informa na tela se é par ou impar.\n",
        "\n",
        "num = int(input('digite um numero:'))\n",
        "\n",
        "if(num%2 == 0):\n",
        " print('o numero é par')\n",
        "else:\n",
        " print('o numero é impar')\n",
        "     "
      ],
      "metadata": {
        "colab": {
          "base_uri": "https://localhost:8080/"
        },
        "id": "h6X6casXPorn",
        "outputId": "37d39c16-bada-4ea3-89f1-e0be8ef1f15d"
      },
      "execution_count": null,
      "outputs": [
        {
          "output_type": "stream",
          "name": "stdout",
          "text": [
            "digite um numero:56\n",
            "o numero é par\n"
          ]
        }
      ]
    },
    {
      "cell_type": "code",
      "source": [
        "#Escreva um algoritmo que recebe um número e diz se ele é múltiplo de 3.\n",
        "\n",
        "num = int(input('digite o numero:'))\n",
        "\n",
        "if (num %3 == 0):\n",
        " print('O numero é mutiplo de três')\n",
        "else:\n",
        "  print('O numero não é mutiplo de três')"
      ],
      "metadata": {
        "colab": {
          "base_uri": "https://localhost:8080/"
        },
        "id": "B5-cOdmTP340",
        "outputId": "302ca52c-15cc-4f44-d814-1ce9a9850ba7"
      },
      "execution_count": 3,
      "outputs": [
        {
          "output_type": "stream",
          "name": "stdout",
          "text": [
            "digite o numero:1236\n",
            "O numero é mutiplo de três\n"
          ]
        }
      ]
    },
    {
      "cell_type": "code",
      "source": [
        "#Escreva um algoritmo que solicita o nome da pessoa, e o ano de nascimento. Então, calcula a idade e, se for menor que 18 anos, solicita o nome da Mãe.\n",
        "\n",
        "n = input('informe seu nome:')\n",
        "\n",
        "d = int(input('informe sua idade:'))\n",
        "\n",
        "if( d < 18):\n",
        "  input('informe o nome da sua mãe:')\n",
        "  print('|||Pode passar|||')\n",
        "else:\n",
        "  print('|||Pode passar|||')"
      ],
      "metadata": {
        "colab": {
          "base_uri": "https://localhost:8080/"
        },
        "id": "luJKYN-UxDxn",
        "outputId": "30c156e4-13ac-4a53-f2b1-69410f33c684"
      },
      "execution_count": 8,
      "outputs": [
        {
          "output_type": "stream",
          "name": "stdout",
          "text": [
            "informe seu nome:Tiago\n",
            "informe sua idade:17\n",
            "informe o nome da sua mãe:Lisandra\n",
            "|||Pode passar|||\n"
          ]
        }
      ]
    },
    {
      "cell_type": "code",
      "source": [
        "#Faça um algoritmo que solicita um número, e retorna: O dobro caso o número seja positivo, o triplo caso o número seja negativo.\n",
        "\n",
        "num = float(input('informe o numero:'))\n",
        "\n",
        "if( num > 0):\n",
        "  calculo = num * 2\n",
        "  print(calculo)\n",
        "else:\n",
        " n = num * 3\n",
        " print(n)"
      ],
      "metadata": {
        "colab": {
          "base_uri": "https://localhost:8080/"
        },
        "id": "q938OURNyH1v",
        "outputId": "d5e8a80a-e347-4ab5-bf8c-3ea287449112"
      },
      "execution_count": 48,
      "outputs": [
        {
          "output_type": "stream",
          "name": "stdout",
          "text": [
            "informe o numero:-25\n",
            "-75.0\n"
          ]
        }
      ]
    },
    {
      "cell_type": "code",
      "source": [
        "#Escreva um algoritmo que recebe 2 valores inteiros e escreve na tela qual é o maior.\n",
        "\n",
        "n1 = int(input('informe um numero:'))\n",
        "n2 = int(input('informe outro numero:'))\n",
        "\n",
        "if( n1 > n2):\n",
        " print('O numero',n1,'é maior que',n2)\n",
        "else:\n",
        " print('O numero', n2 ,'é maior que',n1,)\n"
      ],
      "metadata": {
        "colab": {
          "base_uri": "https://localhost:8080/"
        },
        "id": "P3HJzIvo171r",
        "outputId": "55ecf9b7-4f0e-4a99-88a1-e99fbf2907e0"
      },
      "execution_count": 65,
      "outputs": [
        {
          "output_type": "stream",
          "name": "stdout",
          "text": [
            "informe um numero:34\n",
            "informe outro numero:71\n",
            "O numero 71 é maior que 34\n"
          ]
        }
      ]
    },
    {
      "cell_type": "code",
      "source": [
        "#Faça um algoritmo que recebe 3 números inteiros e mostra-os em ordem decrescente.\n",
        "\n",
        "n1 = int(input('informe um numero:'))\n",
        "n2 = int(input('informe um numero:'))\n",
        "n3 = int(input('informe um numero:'))\n",
        "\n",
        "pn = n1\n",
        "if(n2 > pn):\n",
        "  pn = n2\n",
        "\n",
        "if(n3 > pn):\n",
        "  pn = n3\n",
        "\n",
        "tn = n1\n",
        "if(n2 < tn):\n",
        "  tn = n2\n",
        "\n",
        "if(n3 < tn):\n",
        "  tn = n3\n",
        "\n",
        "sn = (n1 + n2 + n3) - (pn + tn)\n",
        "\n",
        "print('A ordem dos numeros decrescente são:',pn,',',sn,',',tn,)\n"
      ],
      "metadata": {
        "colab": {
          "base_uri": "https://localhost:8080/"
        },
        "id": "irq2_poT414-",
        "outputId": "342521b7-8aff-4066-ad21-a62279f04bff"
      },
      "execution_count": 74,
      "outputs": [
        {
          "output_type": "stream",
          "name": "stdout",
          "text": [
            "informe um numero:67\n",
            "informe um numero:09\n",
            "informe um numero:654\n",
            "A ordem dos numeros decrescente são: 654 , 67 , 9\n"
          ]
        }
      ]
    }
  ]
}