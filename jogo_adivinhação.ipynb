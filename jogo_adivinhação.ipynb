{
  "nbformat": 4,
  "nbformat_minor": 0,
  "metadata": {
    "colab": {
      "provenance": [],
      "authorship_tag": "ABX9TyOTvLAfvIMuklNOO8TAMhlL",
      "include_colab_link": true
    },
    "kernelspec": {
      "name": "python3",
      "display_name": "Python 3"
    },
    "language_info": {
      "name": "python"
    }
  },
  "cells": [
    {
      "cell_type": "markdown",
      "metadata": {
        "id": "view-in-github",
        "colab_type": "text"
      },
      "source": [
        "<a href=\"https://colab.research.google.com/github/tiagofilho0/Atividades-programacao-faculdade-phyton-colab/blob/main/jogo_adivinha%C3%A7%C3%A3o.ipynb\" target=\"_parent\"><img src=\"https://colab.research.google.com/assets/colab-badge.svg\" alt=\"Open In Colab\"/></a>"
      ]
    },
    {
      "cell_type": "code",
      "execution_count": 45,
      "metadata": {
        "colab": {
          "base_uri": "https://localhost:8080/"
        },
        "id": "1VAsXGUFbNAt",
        "outputId": "7abf47da-d830-4bb2-effe-2985a244a481"
      },
      "outputs": [
        {
          "output_type": "stream",
          "name": "stdout",
          "text": [
            "tente acertar o numero entre 0 e 100: 110\n",
            "Tem que ser um numero dentro dos limites estabelecidos!!!\n",
            "Tente de novo!!!\n",
            "tente acertar o numero entre 0 e 100: 70\n",
            "tente acertar o numero entre 0 e 70: 50\n",
            "tente acertar o numero entre 50 e 70: 45\n",
            "Tem que ser um numero dentro dos limites estabelecidos!!!\n",
            "Tente de novo!!!\n",
            "tente acertar o numero entre 50 e 70: 71\n",
            "Tem que ser um numero dentro dos limites estabelecidos!!!\n",
            "Tente de novo!!!\n",
            "tente acertar o numero entre 50 e 70: 60\n",
            "tente acertar o numero entre 60 e 70: 65\n",
            "tente acertar o numero entre 65 e 70: 68\n",
            "tente acertar o numero entre 68 e 70: 71\n",
            "Tem que ser um numero dentro dos limites estabelecidos!!!\n",
            "Tente de novo!!!\n",
            "tente acertar o numero entre 68 e 70: 69\n",
            "\n",
            "Parabéns você acertou em 10 tentativas!!!\n"
          ]
        }
      ],
      "source": [
        "#Jogo adivinhe o número\n",
        "#Desenvolva um jogo de adivinhação que siga as seguintes regras:\n",
        "#1 - O jogo gera, aleatoriamente, um número secreto do tipo inteiro entre 0 e 100\n",
        "#2 - Solicita ao usuário que tente adivinhar o número entre 0 e 100.\n",
        "#3 - Um laço verifica se o número digitado é igual ao número secreto\n",
        "#4 - Se o número digitado for menor que o número secreto, o valor mínimo passa a ser o número digitado\n",
        "#5 - Se o número digitado for maior que o número secreto, o valor máximo passa a ser o número digitado\n",
        "#6 - se o jogador acertar, recebe uma mensagem de parabéns e o número de tentativas que foi necessária.\n",
        "#Para gerar inteiros aleatórios, importe from random import * e use a função randint()\n",
        "\n",
        "#Tarefa bônus: Ajuste o jogo para que não aceite valores fora da faixa de máximo e mínimo.\n",
        "\n",
        "import random\n",
        "\n",
        "num = random.randrange(101)\n",
        "\n",
        "min = 0\n",
        "max = 100\n",
        "\n",
        "cont =1\n",
        "\n",
        "ent = int(input(f'tente acertar o numero entre {min} e {max}: '))\n",
        "\n",
        "\n",
        "while num != ent:\n",
        "  \n",
        "  if ent > max or ent < min :\n",
        "    print('Tem que ser um numero dentro dos limites estabelecidos!!!')\n",
        "    print('Tente de novo!!!')\n",
        "  else:\n",
        "     if num < ent:\n",
        "      max = ent\n",
        "     else:\n",
        "      min = ent\n",
        "  ent = int(input(f'tente acertar o numero entre {min} e {max}: ')) \n",
        "  cont+=1\n",
        "\n",
        "print()\n",
        "print(f'Parabéns você acertou em {cont} tentativas!!!')\n",
        "\n"
      ]
    }
  ]
}