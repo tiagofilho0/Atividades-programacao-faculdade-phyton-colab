{
  "nbformat": 4,
  "nbformat_minor": 0,
  "metadata": {
    "colab": {
      "provenance": [],
      "authorship_tag": "ABX9TyP2d/OfQmfoRz9UlqOst8i+",
      "include_colab_link": true
    },
    "kernelspec": {
      "name": "python3",
      "display_name": "Python 3"
    },
    "language_info": {
      "name": "python"
    }
  },
  "cells": [
    {
      "cell_type": "markdown",
      "metadata": {
        "id": "view-in-github",
        "colab_type": "text"
      },
      "source": [
        "<a href=\"https://colab.research.google.com/github/tiagofilho0/Atividades-programacao-faculdade-phyton-colab/blob/main/aula3_2(Tipos%2CListas).ipynb\" target=\"_parent\"><img src=\"https://colab.research.google.com/assets/colab-badge.svg\" alt=\"Open In Colab\"/></a>"
      ]
    },
    {
      "cell_type": "markdown",
      "source": [
        "*pesquisar depois*\n",
        "\n",
        "**Linguagens fortemente tipadas**\n",
        "\n",
        "\n",
        "**Linguagens de tipagem dinânima**"
      ],
      "metadata": {
        "id": "FxKWP1bS7NFy"
      }
    },
    {
      "cell_type": "code",
      "execution_count": 12,
      "metadata": {
        "colab": {
          "base_uri": "https://localhost:8080/"
        },
        "id": "4babQoIJ5tPa",
        "outputId": "d5dc7d8f-f133-4576-b4f2-e4e60a61d4c5"
      },
      "outputs": [
        {
          "output_type": "execute_result",
          "data": {
            "text/plain": [
              "[25, 4, 3, 6]"
            ]
          },
          "metadata": {},
          "execution_count": 12
        }
      ],
      "source": [
        "#listas são estruturas de dados formados por elementos do mesmo tempo\n",
        "\n",
        "numeros = [25,4,3,6]\n",
        "numeros"
      ]
    },
    {
      "cell_type": "code",
      "source": [
        "#tamanho de uma lista\n",
        "\n",
        "len(numeros)\n"
      ],
      "metadata": {
        "colab": {
          "base_uri": "https://localhost:8080/"
        },
        "id": "7N_oP6HY7tLg",
        "outputId": "71d7d9de-d687-4694-bee7-cb7c7aac0c1f"
      },
      "execution_count": 8,
      "outputs": [
        {
          "output_type": "execute_result",
          "data": {
            "text/plain": [
              "7"
            ]
          },
          "metadata": {},
          "execution_count": 8
        }
      ]
    },
    {
      "cell_type": "code",
      "source": [
        "#indices \n",
        "\n",
        "numeros[1]"
      ],
      "metadata": {
        "id": "JauRJOfB8n0g"
      },
      "execution_count": null,
      "outputs": []
    },
    {
      "cell_type": "code",
      "source": [
        "#indices 25 ,4 ,3 ,6\n",
        "\n",
        "print(numeros[0])\n",
        "print(numeros[1])\n",
        "print(numeros[2])\n",
        "print(numeros[3])"
      ],
      "metadata": {
        "colab": {
          "base_uri": "https://localhost:8080/"
        },
        "id": "rWsnScOO8rIm",
        "outputId": "2e4b456e-58b1-4d0d-c853-7b178f8fb171"
      },
      "execution_count": 11,
      "outputs": [
        {
          "output_type": "stream",
          "name": "stdout",
          "text": [
            "25\n",
            "4\n",
            "3\n",
            "6\n"
          ]
        }
      ]
    },
    {
      "cell_type": "code",
      "source": [
        "#lista de outros tipos\n",
        "\n",
        "alunos = ['mariana', 'luiz', 'higor', 'enzo', 'valentina']\n",
        "alunos"
      ],
      "metadata": {
        "colab": {
          "base_uri": "https://localhost:8080/"
        },
        "id": "Q9ZDafDZ9MV0",
        "outputId": "6db60567-9540-44f9-cdab-86ea96715b9b"
      },
      "execution_count": 17,
      "outputs": [
        {
          "output_type": "execute_result",
          "data": {
            "text/plain": [
              "['mariana', 'luiz', 'higor', 'enzo', 'valentina']"
            ]
          },
          "metadata": {},
          "execution_count": 17
        }
      ]
    },
    {
      "cell_type": "code",
      "source": [
        "#alterar o valores de itens da lista\n",
        "alunos[3] = 'ivan'\n",
        "print(alunos[3])"
      ],
      "metadata": {
        "colab": {
          "base_uri": "https://localhost:8080/"
        },
        "id": "d4iEYqbD-Al2",
        "outputId": "fe43866d-fa56-4e1b-abe5-654e44e68df5"
      },
      "execution_count": 23,
      "outputs": [
        {
          "output_type": "stream",
          "name": "stdout",
          "text": [
            "ivan\n"
          ]
        }
      ]
    },
    {
      "cell_type": "code",
      "source": [
        "#inserir valores a lista .appendi()\n",
        "alunos.append('alex')\n",
        "alunos"
      ],
      "metadata": {
        "colab": {
          "base_uri": "https://localhost:8080/"
        },
        "id": "AOdgBEzE-XmP",
        "outputId": "e8f1e138-30d6-49e5-841c-d193ad5c5793"
      },
      "execution_count": 22,
      "outputs": [
        {
          "output_type": "execute_result",
          "data": {
            "text/plain": [
              "['mariana', 'luiz', 'higor', 'ivan', 'valentina', 'alex', 'alex']"
            ]
          },
          "metadata": {},
          "execution_count": 22
        }
      ]
    },
    {
      "cell_type": "code",
      "source": [
        "alunos.append(input(\"digite seu nome:\"))"
      ],
      "metadata": {
        "colab": {
          "base_uri": "https://localhost:8080/"
        },
        "id": "tkDxAuRa_RZU",
        "outputId": "6122f932-adcc-4e12-a2dc-2e081f25bfc7"
      },
      "execution_count": 33,
      "outputs": [
        {
          "name": "stdout",
          "output_type": "stream",
          "text": [
            "digite seu nome:gabriel\n"
          ]
        }
      ]
    },
    {
      "cell_type": "code",
      "source": [
        "alunos"
      ],
      "metadata": {
        "colab": {
          "base_uri": "https://localhost:8080/"
        },
        "id": "-1ojfCULAgJa",
        "outputId": "17fe8ffb-1b05-48aa-a9c7-85218e6c0d2a"
      },
      "execution_count": 37,
      "outputs": [
        {
          "output_type": "execute_result",
          "data": {
            "text/plain": [
              "['mariana',\n",
              " 'luiz',\n",
              " 'higor',\n",
              " 'ivan',\n",
              " 'valentina',\n",
              " 'alex',\n",
              " 'alex',\n",
              " 'tiago',\n",
              " 'junio']"
            ]
          },
          "metadata": {},
          "execution_count": 37
        }
      ]
    },
    {
      "cell_type": "code",
      "source": [
        "#remover ultimo da lista\n",
        "alunos.pop()\n",
        "alunos"
      ],
      "metadata": {
        "colab": {
          "base_uri": "https://localhost:8080/"
        },
        "id": "EeiP1BpN_wP6",
        "outputId": "43fb8c40-6979-4333-d9d3-facdc61037a0"
      },
      "execution_count": 36,
      "outputs": [
        {
          "output_type": "execute_result",
          "data": {
            "text/plain": [
              "['mariana',\n",
              " 'luiz',\n",
              " 'higor',\n",
              " 'ivan',\n",
              " 'valentina',\n",
              " 'alex',\n",
              " 'alex',\n",
              " 'tiago',\n",
              " 'junio']"
            ]
          },
          "metadata": {},
          "execution_count": 36
        }
      ]
    },
    {
      "cell_type": "code",
      "source": [
        "#descobrir se há um valor determinado na lista, exibir sua posição\n",
        "\n",
        "if 'tiago' in alunos:\n",
        "  print('tem sim')\n",
        "else:\n",
        " print('tem não')"
      ],
      "metadata": {
        "colab": {
          "base_uri": "https://localhost:8080/"
        },
        "id": "TMME0sZvBFmJ",
        "outputId": "ee40f291-674a-4cef-b9c9-b0abfc221784"
      },
      "execution_count": 40,
      "outputs": [
        {
          "output_type": "stream",
          "name": "stdout",
          "text": [
            "tem sim\n"
          ]
        }
      ]
    }
  ]
}