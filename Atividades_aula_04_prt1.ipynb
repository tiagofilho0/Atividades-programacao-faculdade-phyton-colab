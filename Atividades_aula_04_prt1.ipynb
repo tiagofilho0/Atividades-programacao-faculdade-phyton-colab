{
  "nbformat": 4,
  "nbformat_minor": 0,
  "metadata": {
    "colab": {
      "provenance": [],
      "authorship_tag": "ABX9TyNRX10ChLYbk6clHiwhdB70",
      "include_colab_link": true
    },
    "kernelspec": {
      "name": "python3",
      "display_name": "Python 3"
    },
    "language_info": {
      "name": "python"
    }
  },
  "cells": [
    {
      "cell_type": "markdown",
      "metadata": {
        "id": "view-in-github",
        "colab_type": "text"
      },
      "source": [
        "<a href=\"https://colab.research.google.com/github/tiagofilho0/Atividades-programacao-faculdade-phyton-colab/blob/main/Atividades_aula_04_prt1.ipynb\" target=\"_parent\"><img src=\"https://colab.research.google.com/assets/colab-badge.svg\" alt=\"Open In Colab\"/></a>"
      ]
    },
    {
      "cell_type": "code",
      "source": [
        "#Pede a senha do usuário. E dá 5 chances para o usuário inserir a senha correta.\n",
        "\n",
        "s = input('digite sua senha:')\n",
        "\n",
        "contador = 1\n",
        "limite = 5\n",
        "\n",
        "while s != 'senha123' and  contador < limite:\n",
        " contador+=1\n",
        " s = input('digite sua senha:')"
      ],
      "metadata": {
        "id": "dPWX6PR_xVWw",
        "colab": {
          "base_uri": "https://localhost:8080/"
        },
        "outputId": "7199b908-666a-40c5-aad3-8778b0f78724"
      },
      "execution_count": null,
      "outputs": [
        {
          "name": "stdout",
          "output_type": "stream",
          "text": [
            "digite sua senha:1\n",
            "digite sua senha:2\n",
            "digite sua senha:3\n",
            "digite sua senha:4\n",
            "digite sua senha:5\n"
          ]
        }
      ]
    },
    {
      "cell_type": "code",
      "source": [],
      "metadata": {
        "id": "P3-P7ogNYkM6"
      },
      "execution_count": null,
      "outputs": []
    },
    {
      "cell_type": "code",
      "source": [
        "#Altere o código anterior e insira o seguinte critério:\n",
        "#Caso terminem as 5 chances de inserir a senha, o programa deve informar \"tentativas excedidas!\"\n",
        "\n",
        "s = input('digite sua senha:')\n",
        "\n",
        "contador = 1\n",
        "limite = 5\n",
        "\n",
        "while s != 'senha123' and  contador < limite:\n",
        " contador+=1\n",
        " s = input('digite sua senha:')\n",
        " \n",
        "if s != 'senha123':\n",
        "  print('tentativas excedidas!')\n",
        "else:\n",
        " print('Você entrou!!')\n",
        "\n",
        "\n"
      ],
      "metadata": {
        "colab": {
          "base_uri": "https://localhost:8080/"
        },
        "id": "ixTojRpKPBG3",
        "outputId": "f968e513-f454-40d7-df50-5dde1ddc7fd0"
      },
      "execution_count": null,
      "outputs": [
        {
          "output_type": "stream",
          "name": "stdout",
          "text": [
            "digite sua senha:1\n",
            "digite sua senha:2\n",
            "digite sua senha:3\n",
            "digite sua senha:4\n",
            "digite sua senha:5\n",
            "tentativas excedidas!\n"
          ]
        }
      ]
    },
    {
      "cell_type": "code",
      "source": [
        "#Solicitar que o usuário digite nomes de cidades e as armazene em uma lista. \n",
        "#O programa termina caso o usuário digite \"fim\"\n",
        "\n",
        "lista = []\n",
        "\n",
        "c = input('digite o nome da cidade:')\n",
        "\n",
        "while c != 'fim':\n",
        " lista.append(c)\n",
        " c = input('digite o nome da cidade:')\n",
        "\n",
        "print(lista)\n"
      ],
      "metadata": {
        "colab": {
          "base_uri": "https://localhost:8080/"
        },
        "id": "jBFdOVjbYql_",
        "outputId": "04fdbaf5-b0c5-486f-b5fb-b638d6bfdec9"
      },
      "execution_count": null,
      "outputs": [
        {
          "output_type": "stream",
          "name": "stdout",
          "text": [
            "digite o nome da cidade:joão pessoa\n",
            "digite o nome da cidade:rio tinto\n",
            "digite o nome da cidade:mamanguape\n",
            "digite o nome da cidade:campina grande\n",
            "digite o nome da cidade:patos\n",
            "digite o nome da cidade:fim\n",
            "['joão pessoa', 'rio tinto', 'mamanguape', 'campina grande', 'patos']\n"
          ]
        }
      ]
    },
    {
      "cell_type": "code",
      "source": [
        "#Escrever um algoritmo que lista todos os números ímpares que são múltiplos de três e que se encontram no conjunto dos números de 1 até 100.\n",
        "\n",
        "n = []\n",
        "\n",
        "for num in range(101):\n",
        " if num % 2 != 0 and num % 3 == 0:\n",
        "  n.append(num)\n",
        "\n",
        "print(n)\n"
      ],
      "metadata": {
        "colab": {
          "base_uri": "https://localhost:8080/"
        },
        "id": "mq0gqR5TZ2He",
        "outputId": "3e00dcf1-0b3b-498b-c54e-514e9b8c9144"
      },
      "execution_count": null,
      "outputs": [
        {
          "output_type": "stream",
          "name": "stdout",
          "text": [
            "[3, 9, 15, 21, 27, 33, 39, 45, 51, 57, 63, 69, 75, 81, 87, 93, 99]\n"
          ]
        }
      ]
    },
    {
      "cell_type": "code",
      "source": [
        "#Escrever um algoritmo parecido com o anterior, mas que soma todos os múltiplos de 5 de 1 até 500\n",
        "\n",
        "\n",
        "n = []\n",
        "s = 0\n",
        "\n",
        "for num in range(501):\n",
        " if num %5 == 0:\n",
        "  s = s + num\n",
        "  n.append(num)\n",
        "\n",
        "print(n)\n",
        "print('')\n",
        "print('a soma de todos os mutiplos de 5 é',s)\n"
      ],
      "metadata": {
        "colab": {
          "base_uri": "https://localhost:8080/"
        },
        "id": "xoV5tvqzcV1D",
        "outputId": "30741cdb-17c2-4954-8755-9482838c28e9"
      },
      "execution_count": null,
      "outputs": [
        {
          "output_type": "stream",
          "name": "stdout",
          "text": [
            "[0, 5, 10, 15, 20, 25, 30, 35, 40, 45, 50, 55, 60, 65, 70, 75, 80, 85, 90, 95, 100, 105, 110, 115, 120, 125, 130, 135, 140, 145, 150, 155, 160, 165, 170, 175, 180, 185, 190, 195, 200, 205, 210, 215, 220, 225, 230, 235, 240, 245, 250, 255, 260, 265, 270, 275, 280, 285, 290, 295, 300, 305, 310, 315, 320, 325, 330, 335, 340, 345, 350, 355, 360, 365, 370, 375, 380, 385, 390, 395, 400, 405, 410, 415, 420, 425, 430, 435, 440, 445, 450, 455, 460, 465, 470, 475, 480, 485, 490, 495, 500]\n",
            "\n",
            "a soma de todos os mutiplos de 5 é 25250\n"
          ]
        }
      ]
    },
    {
      "cell_type": "code",
      "source": [
        "#Crie um algoritmo que, dado um número informado pelo usuário, imprima a tabuada dele de 1 a 10. \n",
        "#Use o formato de apresentação (considerando que o usuário informou o número 3):3 x 1 = 3,3 x 2 = 6,...\n",
        "\n",
        "a = int(input('informe um numero:'))\n",
        "\n",
        "d = 0\n",
        "\n",
        "\n",
        "while d < 10:\n",
        "  d+=1\n",
        "  s = a * d\n",
        "  print(f'{a} x {d} = {s}')  \n",
        "\n",
        "\n",
        "\n",
        "\n"
      ],
      "metadata": {
        "colab": {
          "base_uri": "https://localhost:8080/"
        },
        "id": "YRx4RNkZdQsH",
        "outputId": "4106428e-d09f-4bac-e266-e6095e64bec8"
      },
      "execution_count": null,
      "outputs": [
        {
          "output_type": "stream",
          "name": "stdout",
          "text": [
            "informe um numero:7\n",
            "7 x 1 = 7\n",
            "7 x 2 = 14\n",
            "7 x 3 = 21\n",
            "7 x 4 = 28\n",
            "7 x 5 = 35\n",
            "7 x 6 = 42\n",
            "7 x 7 = 49\n",
            "7 x 8 = 56\n",
            "7 x 9 = 63\n",
            "7 x 10 = 70\n"
          ]
        }
      ]
    },
    {
      "cell_type": "code",
      "source": [
        "#Desenvolva um programa que, lê o peso de 10 pessoas. Depois, calcula e mostra: O maior peso e o menor peso\n",
        "\n",
        "a = float(input('digite os peso:'))\n",
        "\n",
        "p = 0\n",
        "b = 100\n",
        "\n",
        "c = 1\n",
        "l = 10\n",
        "\n",
        "while c < l:\n",
        " c+=1\n",
        " if a > p:\n",
        "   p = a\n",
        " if a < b:\n",
        "   b = a\n",
        " \n",
        " a = float(input('digite seu peso:'))\n",
        "\n",
        "print('')\n",
        "print('A pessoa com o maior peso tem:',p)\n",
        "print('A a menor tem:',b)\n",
        "\n",
        "\n"
      ],
      "metadata": {
        "id": "Ie4I5CM1XL4p",
        "colab": {
          "base_uri": "https://localhost:8080/"
        },
        "outputId": "021f2224-26de-4eb8-e6b6-20e5fc0c5344"
      },
      "execution_count": null,
      "outputs": [
        {
          "output_type": "stream",
          "name": "stdout",
          "text": [
            "digite os peso:27\n",
            "digite seu peso:45\n",
            "digite seu peso:73\n",
            "digite seu peso:47\n",
            "digite seu peso:34\n",
            "digite seu peso:105\n",
            "digite seu peso:50\n",
            "digite seu peso:58\n",
            "digite seu peso:39\n",
            "digite seu peso:46\n",
            "\n",
            "A pessoa com o maior peso tem: 105.0\n",
            "A a menor tem: 27.0\n"
          ]
        }
      ]
    }
  ]
}