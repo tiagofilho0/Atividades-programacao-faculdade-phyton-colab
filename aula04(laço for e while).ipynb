{
  "nbformat": 4,
  "nbformat_minor": 0,
  "metadata": {
    "colab": {
      "provenance": [],
      "authorship_tag": "ABX9TyMk0bBSgeTB24ORqCXk4Qy8",
      "include_colab_link": true
    },
    "kernelspec": {
      "name": "python3",
      "display_name": "Python 3"
    },
    "language_info": {
      "name": "python"
    }
  },
  "cells": [
    {
      "cell_type": "markdown",
      "metadata": {
        "id": "view-in-github",
        "colab_type": "text"
      },
      "source": [
        "<a href=\"https://colab.research.google.com/github/tiagofilho0/Atividades-programacao-faculdade-phyton-colab/blob/main/aula04(la%C3%A7o%20for%20e%20while).ipynb\" target=\"_parent\"><img src=\"https://colab.research.google.com/assets/colab-badge.svg\" alt=\"Open In Colab\"/></a>"
      ]
    },
    {
      "cell_type": "markdown",
      "source": [
        "## **Laço 'For'**"
      ],
      "metadata": {
        "id": "hA3ScAMk8SMu"
      }
    },
    {
      "cell_type": "code",
      "source": [
        "#criar uma lista de numeros\n",
        "numeros = []\n",
        "for num in  range(10,20):\n",
        "  numeros.append(num)\n",
        "\n",
        "print(numeros)\n"
      ],
      "metadata": {
        "colab": {
          "base_uri": "https://localhost:8080/"
        },
        "id": "01GnURd3t7uM",
        "outputId": "815e71de-cdaa-4511-fa2a-e4281e434293"
      },
      "execution_count": 47,
      "outputs": [
        {
          "output_type": "stream",
          "name": "stdout",
          "text": [
            "[10, 11, 12, 13, 14, 15, 16, 17, 18, 19]\n"
          ]
        }
      ]
    },
    {
      "cell_type": "code",
      "source": [
        "#para usar biblioteca random,precisa importa,la\n",
        "import random\n",
        "\n",
        "#criar uma lista com tamanho aleatorio(entre 0 e 50)\n",
        "nums2=[]\n",
        "for num in range(5,random.randrange(50)):\n",
        "  nums2.append(num)\n",
        "\n",
        "print(nums2)"
      ],
      "metadata": {
        "colab": {
          "base_uri": "https://localhost:8080/"
        },
        "id": "YnREeOt1v77C",
        "outputId": "bac35203-5c8e-4a3f-80f4-f01eaa516e6a"
      },
      "execution_count": 53,
      "outputs": [
        {
          "output_type": "stream",
          "name": "stdout",
          "text": [
            "[5, 6, 7, 8, 9, 10, 11, 12, 13, 14, 15, 16, 17, 18, 19, 20, 21, 22, 23, 24, 25, 26]\n"
          ]
        }
      ]
    },
    {
      "cell_type": "code",
      "source": [
        "#Descobrir se um numeero é par ou impar(mod)=resto da divisão\n",
        "\n",
        "a = int(input('digite um numero:'))\n",
        "if a%2 == 0:\n",
        " print('é par')\n",
        "else:\n",
        " print('é impar')\n"
      ],
      "metadata": {
        "colab": {
          "base_uri": "https://localhost:8080/"
        },
        "id": "41XNTeQRxRS8",
        "outputId": "343e43af-fac0-41da-b5d1-43f52cd74949"
      },
      "execution_count": 54,
      "outputs": [
        {
          "output_type": "stream",
          "name": "stdout",
          "text": [
            "digite um numero:5675\n",
            "é impar\n"
          ]
        }
      ]
    },
    {
      "cell_type": "code",
      "source": [
        "3%2"
      ],
      "metadata": {
        "colab": {
          "base_uri": "https://localhost:8080/"
        },
        "id": "DWGGZa9J0Quk",
        "outputId": "b761e7aa-c503-45a3-9680-b420ab1252ed"
      },
      "execution_count": 55,
      "outputs": [
        {
          "output_type": "execute_result",
          "data": {
            "text/plain": [
              "1"
            ]
          },
          "metadata": {},
          "execution_count": 55
        }
      ]
    },
    {
      "cell_type": "code",
      "source": [
        "#printar os numeros pares de uma lista até 50\n",
        "\n",
        "numsp = []\n",
        "\n",
        "numsi = []\n",
        "\n",
        "for num in range(51):\n",
        " if num % 2 == 0:\n",
        "  numsp.append(num)\n",
        " else:\n",
        "  numsi.append(num)\n",
        "\n",
        "print('pares:', numsp)\n",
        "print()\n",
        "print('impares:', numsi)\n"
      ],
      "metadata": {
        "colab": {
          "base_uri": "https://localhost:8080/"
        },
        "id": "R-_8tDvn0lk7",
        "outputId": "43883385-64d4-4054-d4b9-fc053855870d"
      },
      "execution_count": 63,
      "outputs": [
        {
          "output_type": "stream",
          "name": "stdout",
          "text": [
            "pares: [0, 2, 4, 6, 8, 10, 12, 14, 16, 18, 20, 22, 24, 26, 28, 30, 32, 34, 36, 38, 40, 42, 44, 46, 48, 50]\n",
            "\n",
            "impares: [1, 3, 5, 7, 9, 11, 13, 15, 17, 19, 21, 23, 25, 27, 29, 31, 33, 35, 37, 39, 41, 43, 45, 47, 49]\n"
          ]
        }
      ]
    },
    {
      "cell_type": "code",
      "source": [
        "#retorne a soma dos numeros de 1 a 100\n",
        "\n",
        "n = 0\n",
        "\n",
        "for num in range(101):\n",
        " \n",
        " n = n + num\n",
        "\n",
        "n\n"
      ],
      "metadata": {
        "colab": {
          "base_uri": "https://localhost:8080/"
        },
        "id": "uBKwp1QC3cl1",
        "outputId": "195cf9d1-e4fe-4bed-a345-59c55592ce85"
      },
      "execution_count": 87,
      "outputs": [
        {
          "output_type": "execute_result",
          "data": {
            "text/plain": [
              "5050"
            ]
          },
          "metadata": {},
          "execution_count": 87
        }
      ]
    },
    {
      "cell_type": "markdown",
      "source": [
        "# **Laço 'while'**"
      ],
      "metadata": {
        "id": "aR1CiHgm8dKL"
      }
    },
    {
      "cell_type": "code",
      "source": [
        "#criar um programa que lista os numero  de 1 a 10\n",
        "#precisamos de um  contador!\n",
        "\n",
        "cont = 0\n",
        "\n",
        "while (cont < 10):\n",
        "  print(cont + 1)\n",
        "  cont+=1\n",
        "\n"
      ],
      "metadata": {
        "colab": {
          "base_uri": "https://localhost:8080/"
        },
        "id": "REZro9dC8nzk",
        "outputId": "dd93a40b-e177-42be-ae5c-8e6ec08c0c65"
      },
      "execution_count": 96,
      "outputs": [
        {
          "output_type": "stream",
          "name": "stdout",
          "text": [
            "1\n",
            "2\n",
            "3\n",
            "4\n",
            "5\n",
            "6\n",
            "7\n",
            "8\n",
            "9\n",
            "10\n"
          ]
        }
      ]
    },
    {
      "cell_type": "code",
      "source": [
        "#pede ao usuario para inserir um numero inteiro maior que 1\n",
        "#o programa debe imprimir todos os numeros ate o numero digitado\n",
        "\n",
        "a = int(input('digite um numero maior que 1 : '))\n",
        "b = 0\n",
        "\n",
        "if a >= 1:\n",
        "\n",
        " while ( b <= a):\n",
        "  print(b)\n",
        "  b+=1\n",
        "\n",
        "else:\n",
        "  print('o numero tem que ser maior que 1:')\n",
        " "
      ],
      "metadata": {
        "colab": {
          "base_uri": "https://localhost:8080/"
        },
        "id": "Coxn_s8o-qrZ",
        "outputId": "f8695f8b-73e1-49db-d2a1-5b4580d20e23"
      },
      "execution_count": 113,
      "outputs": [
        {
          "output_type": "stream",
          "name": "stdout",
          "text": [
            "digite um numero maior que 1 : 10\n",
            "0\n",
            "1\n",
            "2\n",
            "3\n",
            "4\n",
            "5\n",
            "6\n",
            "7\n",
            "8\n",
            "9\n",
            "10\n"
          ]
        }
      ]
    },
    {
      "cell_type": "code",
      "source": [
        "#cria uma lista de compras,encerra caso digite 0.\n",
        "\n",
        "lista = []\n",
        "\n",
        "a = input('digite sua compra:')\n",
        "\n",
        "while ( a != '0'):\n",
        " lista.append(a)\n",
        " a = input('digite sua compra:')\n",
        "\n",
        "print (lista)\n"
      ],
      "metadata": {
        "colab": {
          "base_uri": "https://localhost:8080/"
        },
        "id": "Q14zqTrUCSX2",
        "outputId": "e7093ac1-f97c-4c70-f9e1-2fb3c8347706"
      },
      "execution_count": 123,
      "outputs": [
        {
          "output_type": "stream",
          "name": "stdout",
          "text": [
            "digite sua compra:arroz\n",
            "digite sua compra:carne\n",
            "digite sua compra:frango\n",
            "digite sua compra:queijo\n",
            "digite sua compra:pão\n",
            "digite sua compra:mortadela\n",
            "digite sua compra:0\n",
            "['arroz', 'carne', 'frango', 'queijo', 'pão', 'mortadela']\n"
          ]
        }
      ]
    }
  ]
}